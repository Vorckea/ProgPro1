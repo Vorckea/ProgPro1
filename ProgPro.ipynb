{
 "cells": [
  {
   "cell_type": "markdown",
   "metadata": {},
   "source": [
    "# Statistikkprosjekt"
   ]
  },
  {
   "cell_type": "markdown",
   "metadata": {},
   "source": [
    "Vårt første modelleringsprosjekt er et prosjekt der du skal samle inn et datasett og gjøre statistisk analyse og regresjonsanalyse med disse dataene. Oppgaven går ut på følgende:"
   ]
  },
  {
   "cell_type": "markdown",
   "metadata": {},
   "source": [
    "1. Samle inn data. Du bør måle minst 6 variabler og samle inn minst 25 målepunkter for hver av de fire variablene. Du kan bruke sensorer, spørreundersøkelser eller tilsvarende. Lagre dataene i en .txt-fil, .csv-fil eller .xlsx-fil (Excel). Hvis du finner et veldig godt datasett på internett som du heller ønsker å bruke, spør læreren om dere kan bruke det isteden.\n",
    "\n",
    "2. Les dataene i Python og lag relevante visualiseringer som beskriver hva datasettet forteller oss.\n",
    "\n",
    "3. Beregn relevante mål på sentraltendens og spredning. Presenter resultatene i en oversiktlig tabell. Forklar hva disse målene forteller om dataene dine. Lag gjerne visualiseringer som beskriver spredningen.\n",
    "\n",
    "4. Regn ut korrelasjoner i datasettet og lag et korrelasjonsplott. Diskuter eventuelle korrelasjoner.\n",
    "\n",
    "5. Gjør en lineær regresjon av to variabler der en lineær modell kan beskrive sammenhengen mellom variablene. Diskuter modellen.\n",
    "\n"
   ]
  },
  {
   "cell_type": "markdown",
   "metadata": {},
   "source": [
    "Prosjektet leveres som fullstendig, sammensatt rapport (lever en .ipynb-fil og .pdf av notebooken). Husk å skrive navnet på alle i gruppa på rapporten. Alle på gruppa skal levere den samme fila på Teams."
   ]
  },
  {
   "cell_type": "markdown",
   "metadata": {},
   "source": [
    "## Resources\n",
    "Link til dataset https://vikenfk-my.sharepoint.com/:x:/g/personal/eliastor_viken_no/Eagui26u11FOicAqXMPH6z8BdBkqobUKVG3PVltnZAzpwA"
   ]
  },
  {
   "cell_type": "code",
   "execution_count": 11,
   "metadata": {
    "dotnet_interactive": {
     "language": "csharp"
    }
   },
   "outputs": [],
   "source": [
    "import numpy as np\n",
    "import pandas as pd\n",
    "import matplotlib.pyplot as plt\n",
    "import seaborn as sns\n",
    "import Api"
   ]
  },
  {
   "cell_type": "code",
   "execution_count": 12,
   "metadata": {
    "dotnet_interactive": {
     "language": "csharp"
    }
   },
   "outputs": [
    {
     "name": "stdout",
     "output_type": "stream",
     "text": [
      "Data retrieved\n"
     ]
    }
   ],
   "source": [
    "df = Api.getData(reftime=\"2021-04-01/2022-04-03\")"
   ]
  },
  {
   "cell_type": "code",
   "execution_count": 13,
   "metadata": {
    "dotnet_interactive": {
     "language": "csharp"
    }
   },
   "outputs": [
    {
     "data": {
      "text/html": [
       "<div>\n",
       "<style scoped>\n",
       "    .dataframe tbody tr th:only-of-type {\n",
       "        vertical-align: middle;\n",
       "    }\n",
       "\n",
       "    .dataframe tbody tr th {\n",
       "        vertical-align: top;\n",
       "    }\n",
       "\n",
       "    .dataframe thead th {\n",
       "        text-align: right;\n",
       "    }\n",
       "</style>\n",
       "<table border=\"1\" class=\"dataframe\">\n",
       "  <thead>\n",
       "    <tr style=\"text-align: right;\">\n",
       "      <th></th>\n",
       "      <th>index</th>\n",
       "      <th>elementId</th>\n",
       "      <th>value</th>\n",
       "      <th>unit</th>\n",
       "      <th>level</th>\n",
       "      <th>timeOffset</th>\n",
       "      <th>timeResolution</th>\n",
       "      <th>timeSeriesId</th>\n",
       "      <th>performanceCategory</th>\n",
       "      <th>exposureCategory</th>\n",
       "      <th>qualityCode</th>\n",
       "      <th>referenceTime</th>\n",
       "      <th>sourceId</th>\n",
       "    </tr>\n",
       "  </thead>\n",
       "  <tbody>\n",
       "    <tr>\n",
       "      <th>0</th>\n",
       "      <td>0</td>\n",
       "      <td>mean(air_temperature P1D)</td>\n",
       "      <td>5.1</td>\n",
       "      <td>degC</td>\n",
       "      <td>{'levelType': 'height_above_ground', 'unit': '...</td>\n",
       "      <td>PT0H</td>\n",
       "      <td>P1D</td>\n",
       "      <td>0</td>\n",
       "      <td>C</td>\n",
       "      <td>2</td>\n",
       "      <td>0.0</td>\n",
       "      <td>2021-04-01T00:00:00.000Z</td>\n",
       "      <td>SN18700:0</td>\n",
       "    </tr>\n",
       "    <tr>\n",
       "      <th>1</th>\n",
       "      <td>1</td>\n",
       "      <td>mean(air_temperature P1D)</td>\n",
       "      <td>4.4</td>\n",
       "      <td>degC</td>\n",
       "      <td>{'levelType': 'height_above_ground', 'unit': '...</td>\n",
       "      <td>PT6H</td>\n",
       "      <td>P1D</td>\n",
       "      <td>0</td>\n",
       "      <td>C</td>\n",
       "      <td>2</td>\n",
       "      <td>2.0</td>\n",
       "      <td>2021-04-01T00:00:00.000Z</td>\n",
       "      <td>SN18700:0</td>\n",
       "    </tr>\n",
       "    <tr>\n",
       "      <th>2</th>\n",
       "      <td>2</td>\n",
       "      <td>sum(precipitation_amount P1D)</td>\n",
       "      <td>0.0</td>\n",
       "      <td>mm</td>\n",
       "      <td>NaN</td>\n",
       "      <td>PT18H</td>\n",
       "      <td>P1D</td>\n",
       "      <td>0</td>\n",
       "      <td>C</td>\n",
       "      <td>2</td>\n",
       "      <td>2.0</td>\n",
       "      <td>2021-04-01T00:00:00.000Z</td>\n",
       "      <td>SN18700:0</td>\n",
       "    </tr>\n",
       "    <tr>\n",
       "      <th>3</th>\n",
       "      <td>3</td>\n",
       "      <td>sum(precipitation_amount P1D)</td>\n",
       "      <td>0.0</td>\n",
       "      <td>mm</td>\n",
       "      <td>NaN</td>\n",
       "      <td>PT6H</td>\n",
       "      <td>P1D</td>\n",
       "      <td>0</td>\n",
       "      <td>C</td>\n",
       "      <td>2</td>\n",
       "      <td>0.0</td>\n",
       "      <td>2021-04-01T00:00:00.000Z</td>\n",
       "      <td>SN18700:0</td>\n",
       "    </tr>\n",
       "    <tr>\n",
       "      <th>4</th>\n",
       "      <td>4</td>\n",
       "      <td>mean(wind_speed P1D)</td>\n",
       "      <td>2.1</td>\n",
       "      <td>m/s</td>\n",
       "      <td>{'levelType': 'height_above_ground', 'unit': '...</td>\n",
       "      <td>PT0H</td>\n",
       "      <td>P1D</td>\n",
       "      <td>0</td>\n",
       "      <td>C</td>\n",
       "      <td>2</td>\n",
       "      <td>2.0</td>\n",
       "      <td>2021-04-01T00:00:00.000Z</td>\n",
       "      <td>SN18700:0</td>\n",
       "    </tr>\n",
       "  </tbody>\n",
       "</table>\n",
       "</div>"
      ],
      "text/plain": [
       "   index                      elementId  value  unit  \\\n",
       "0      0      mean(air_temperature P1D)    5.1  degC   \n",
       "1      1      mean(air_temperature P1D)    4.4  degC   \n",
       "2      2  sum(precipitation_amount P1D)    0.0    mm   \n",
       "3      3  sum(precipitation_amount P1D)    0.0    mm   \n",
       "4      4           mean(wind_speed P1D)    2.1   m/s   \n",
       "\n",
       "                                               level timeOffset  \\\n",
       "0  {'levelType': 'height_above_ground', 'unit': '...       PT0H   \n",
       "1  {'levelType': 'height_above_ground', 'unit': '...       PT6H   \n",
       "2                                                NaN      PT18H   \n",
       "3                                                NaN       PT6H   \n",
       "4  {'levelType': 'height_above_ground', 'unit': '...       PT0H   \n",
       "\n",
       "  timeResolution  timeSeriesId performanceCategory exposureCategory  \\\n",
       "0            P1D             0                   C                2   \n",
       "1            P1D             0                   C                2   \n",
       "2            P1D             0                   C                2   \n",
       "3            P1D             0                   C                2   \n",
       "4            P1D             0                   C                2   \n",
       "\n",
       "   qualityCode             referenceTime   sourceId  \n",
       "0          0.0  2021-04-01T00:00:00.000Z  SN18700:0  \n",
       "1          2.0  2021-04-01T00:00:00.000Z  SN18700:0  \n",
       "2          2.0  2021-04-01T00:00:00.000Z  SN18700:0  \n",
       "3          0.0  2021-04-01T00:00:00.000Z  SN18700:0  \n",
       "4          2.0  2021-04-01T00:00:00.000Z  SN18700:0  "
      ]
     },
     "execution_count": 13,
     "metadata": {},
     "output_type": "execute_result"
    }
   ],
   "source": [
    "df.head()"
   ]
  }
 ],
 "metadata": {
  "kernelspec": {
   "display_name": "Python 3.9.6 64-bit",
   "language": "python",
   "name": "python3"
  },
  "language_info": {
   "codemirror_mode": {
    "name": "ipython",
    "version": 3
   },
   "file_extension": ".py",
   "mimetype": "text/x-python",
   "name": "python",
   "nbconvert_exporter": "python",
   "pygments_lexer": "ipython3",
   "version": "3.9.6"
  },
  "orig_nbformat": 4,
  "vscode": {
   "interpreter": {
    "hash": "d635e9d0c22a6d0a8db3fbb438c23f9d790018b2949b5d8c84f866507aaa0202"
   }
  }
 },
 "nbformat": 4,
 "nbformat_minor": 2
}
