{
 "cells": [
  {
   "attachments": {},
   "cell_type": "markdown",
   "metadata": {},
   "source": [
    "# Datahåndteringsprosjekt\n",
    "Laget av Elias, Aksel og Jakob"
   ]
  },
  {
   "attachments": {},
   "cell_type": "markdown",
   "metadata": {},
   "source": [
    "Vårt første modelleringsprosjekt er et prosjekt der du skal samle inn et datasett og gjøre statistisk analyse og regresjonsanalyse med disse dataene. Oppgaven går ut på følgende:\n",
    "\n",
    "1. Samle inn data. Du bør måle minst 6 variabler og samle inn minst 25 målepunkter for hver av de fire variablene. Du kan bruke sensorer, spørreundersøkelser eller tilsvarende. Lagre dataene i en .txt-fil, .csv-fil eller .xlsx-fil (Excel). Hvis du finner et veldig godt datasett på internett som du heller ønsker å bruke, spør læreren om dere kan bruke det isteden.\n",
    "\n",
    "2. Les dataene i Python og lag relevante visualiseringer som beskriver hva datasettet forteller oss.\n",
    "\n",
    "3. Beregn relevante mål på sentraltendens og spredning. Presenter resultatene i en oversiktlig tabell. Forklar hva disse målene forteller om dataene dine. Lag gjerne visualiseringer som beskriver spredningen.\n",
    "\n",
    "4. Regn ut korrelasjoner i datasettet og lag et korrelasjonsplott. Diskuter eventuelle korrelasjoner.\n",
    "\n",
    "5. Gjør en lineær regresjon av to variabler der en lineær modell kan beskrive sammenhengen mellom variablene. Diskuter modellen.\n",
    "\n",
    "Prosjektet leveres som fullstendig, sammensatt rapport (lever en .ipynb-fil og .pdf av notebooken). Husk å skrive navnet på alle i gruppa på rapporten. Alle på gruppa skal levere den samme fila på Teams."
   ]
  },
  {
   "attachments": {},
   "cell_type": "markdown",
   "metadata": {},
   "source": [
    "# Introduksjon\n",
    "I dette prosjektet undersøker vi korrelasjoner i diverse værdata fra flere år.\n",
    "\n",
    "#oversikt over deler\n",
    "Dette prosjektet består av fire hoveddeler\n",
    "## Innholdsfortegnelse\n",
    "1. [Introduksjon](#Introduksjon)\n",
    "2. [Innsamling av data](#Innsamling-av-data)\n",
    "3. [Resultater](#Resultater)\n",
    "    1. [Visualisering](#visualisering)\n",
    "    2. [Sentraltendens og Spredning](#sentraltendens-og-spredning)\n",
    "    3. [Korrelasjon](#korrelasjon)\n",
    "    4. [Regresjon](#regresjon)\n",
    "4. [Drøfting](#drøfting)\n",
    "    1. [Visualisering](#visualisering-av-data)\n",
    "    2. [Korrelasjoner](#korrelasjoner)"
   ]
  },
  {
   "attachments": {},
   "cell_type": "markdown",
   "metadata": {},
   "source": [
    "# Innsamling av data\n",
    "Data hentet fra Metrologist Institutt via frost API"
   ]
  },
  {
   "cell_type": "code",
   "execution_count": 1,
   "metadata": {},
   "outputs": [
    {
     "name": "stdout",
     "output_type": "stream",
     "text": [
      "requests found\n",
      "scipy is not installed, will install the package for you\n"
     ]
    },
    {
     "ename": "ModuleNotFoundError",
     "evalue": "No module named 'seaborn'",
     "output_type": "error",
     "traceback": [
      "\u001b[1;31m---------------------------------------------------------------------------\u001b[0m",
      "\u001b[1;31mModuleNotFoundError\u001b[0m                       Traceback (most recent call last)",
      "\u001b[1;32mc:\\Users\\elias\\Documents\\GitHub\\ProgPro1\\ProgPro.ipynb Cell 5\u001b[0m in \u001b[0;36m<module>\u001b[1;34m\u001b[0m\n\u001b[0;32m      <a href='vscode-notebook-cell:/c%3A/Users/elias/Documents/GitHub/ProgPro1/ProgPro.ipynb#W3sZmlsZQ%3D%3D?line=3'>4</a>\u001b[0m \u001b[39mimport\u001b[39;00m \u001b[39mpandas\u001b[39;00m \u001b[39mas\u001b[39;00m \u001b[39mpd\u001b[39;00m\n\u001b[0;32m      <a href='vscode-notebook-cell:/c%3A/Users/elias/Documents/GitHub/ProgPro1/ProgPro.ipynb#W3sZmlsZQ%3D%3D?line=4'>5</a>\u001b[0m \u001b[39mimport\u001b[39;00m \u001b[39mmatplotlib\u001b[39;00m\u001b[39m.\u001b[39;00m\u001b[39mpyplot\u001b[39;00m \u001b[39mas\u001b[39;00m \u001b[39mplt\u001b[39;00m\n\u001b[1;32m----> <a href='vscode-notebook-cell:/c%3A/Users/elias/Documents/GitHub/ProgPro1/ProgPro.ipynb#W3sZmlsZQ%3D%3D?line=5'>6</a>\u001b[0m \u001b[39mimport\u001b[39;00m \u001b[39mseaborn\u001b[39;00m \u001b[39mas\u001b[39;00m \u001b[39msns\u001b[39;00m\n\u001b[0;32m      <a href='vscode-notebook-cell:/c%3A/Users/elias/Documents/GitHub/ProgPro1/ProgPro.ipynb#W3sZmlsZQ%3D%3D?line=6'>7</a>\u001b[0m \u001b[39m#import Api  #program vi har laget for å samle \u001b[39;00m\n\u001b[0;32m      <a href='vscode-notebook-cell:/c%3A/Users/elias/Documents/GitHub/ProgPro1/ProgPro.ipynb#W3sZmlsZQ%3D%3D?line=7'>8</a>\u001b[0m \u001b[39m#import DataHandler\u001b[39;00m\n\u001b[0;32m      <a href='vscode-notebook-cell:/c%3A/Users/elias/Documents/GitHub/ProgPro1/ProgPro.ipynb#W3sZmlsZQ%3D%3D?line=8'>9</a>\u001b[0m \u001b[39mimport\u001b[39;00m \u001b[39mUtils\u001b[39;00m \u001b[39mas\u001b[39;00m \u001b[39mutils\u001b[39;00m\n",
      "\u001b[1;31mModuleNotFoundError\u001b[0m: No module named 'seaborn'"
     ]
    }
   ],
   "source": [
    "import Reqs\n",
    "Reqs.downloadReqs() #installerer alle uvanlige pakker\n",
    "import numpy as np\n",
    "import pandas as pd\n",
    "import matplotlib.pyplot as plt\n",
    "import seaborn as sns\n",
    "#import Api  #program vi har laget for å samle \n",
    "#import DataHandler\n",
    "import Utils as utils\n",
    "\n",
    "reftime = \"2013-04-01/2022-12-14\""
   ]
  },
  {
   "cell_type": "code",
   "execution_count": null,
   "metadata": {
    "dotnet_interactive": {
     "language": "csharp"
    }
   },
   "outputs": [],
   "source": [
    "df = utils.ApiAndDataHandeling.getData(reftime=reftime, n_lines=2)    #Henter data\n",
    "df = utils.ApiAndDataHandeling.fixTable(df)"
   ]
  },
  {
   "attachments": {},
   "cell_type": "markdown",
   "metadata": {},
   "source": [
    "# Resultater"
   ]
  },
  {
   "attachments": {},
   "cell_type": "markdown",
   "metadata": {},
   "source": [
    "Her er et utsnitt av datasettet vårt"
   ]
  },
  {
   "cell_type": "code",
   "execution_count": null,
   "metadata": {},
   "outputs": [],
   "source": [
    "df.head()"
   ]
  },
  {
   "attachments": {},
   "cell_type": "markdown",
   "metadata": {},
   "source": [
    "## Visualisering"
   ]
  },
  {
   "cell_type": "code",
   "execution_count": null,
   "metadata": {},
   "outputs": [],
   "source": [
    "df = utils.ApiAndDataHandeling.getData(reftime=reftime, n_lines=1)\n",
    "df = utils.ApiAndDataHandeling.fixTable(df)\n",
    "sns.scatterplot(x= df.index, y=df[\"mean(air_temperature P1D)\"], data=df, hue=df[\"sum(precipitation_amount P1D)\"])"
   ]
  },
  {
   "cell_type": "code",
   "execution_count": null,
   "metadata": {},
   "outputs": [],
   "source": [
    "df = utils.ApiAndDataHandeling.getData(reftime=reftime, n_lines=13)\n",
    "df = utils.ApiAndDataHandeling.fixTable(df)\n",
    "sns.set_theme(style=\"darkgrid\")\n",
    "\n",
    "# Plot the responses for different events and regions\n",
    "plt.figure(figsize=(14, 4))\n",
    "sns.lineplot(x=df.index, y=df[\"mean(air_temperature P1D)\"],\n",
    "             data=df)\n",
    "\n",
    "df = utils.ApiAndDataHandeling.getData(reftime=reftime, n_lines=1)\n",
    "df = utils.ApiAndDataHandeling.fixTable(df)\n",
    "\n",
    "temp = sns.relplot(\n",
    "data=df,\n",
    "x=df.index, y=df[\"sum(precipitation_amount P1D)\"],\n",
    "hue=df[\"mean(air_temperature P1D)\"], size=1,\n",
    ").set(ylim=(1, None))"
   ]
  },
  {
   "attachments": {},
   "cell_type": "markdown",
   "metadata": {},
   "source": [
    "### Sentraltendens og spredning\n",
    "Regner ut gjennomsnitt, median og standardavvik og presenterer det for hver kolonne"
   ]
  },
  {
   "cell_type": "code",
   "execution_count": null,
   "metadata": {},
   "outputs": [],
   "source": [
    "df = utils.ApiAndDataHandeling.getData(reftime=reftime, n_lines=1)\n",
    "df = utils.ApiAndDataHandeling.fixTable(df)\n",
    "mean = []\n",
    "median = []\n",
    "std = []\n",
    "elements = []\n",
    "\n",
    "for items in df: \n",
    "    try:\n",
    "        print(items)\n",
    "        mean.append(np.mean(df[items]))\n",
    "        median.append(np.nanmedian(df[items]))\n",
    "        std.append(np.std(df[items]))\n",
    "        elements.append(items)\n",
    "    except: \n",
    "        next\n",
    "\n",
    "print(mean)\n",
    "print(median)\n",
    "print(std)\n",
    "print(elements)\n",
    "liste = [[\"Data\",\"Gjennomsnitt\",\"Median\", \"Standaravikk\"]]\n",
    "for i in range(len(elements)):\n",
    "    if i == 8: break\n",
    "    a = []\n",
    "    a.append(elements[i])\n",
    "    a.append(str(mean[i]))\n",
    "    a.append(str(median[i]))\n",
    "    a.append(str(std[i]))\n",
    "    liste.append(a)\n",
    "print(utils.markdown.make_markdown_table(liste))\n"
   ]
  },
  {
   "attachments": {},
   "cell_type": "markdown",
   "metadata": {},
   "source": [
    "| Data | Gjennomsnitt | Median | Standaravikk |\n",
    "| --- | --- | --- | --- |\n",
    "| mean(air_pressure_at_sea_level P1D) | 1011.608728179551 | 1012.2 | 12.157683802428378 |\n",
    "| mean(air_temperature P1D) | 7.970822942643392 | 7.6499999999999995 | 7.450360855614655 |\n",
    "| mean(cloud_area_fraction P1D) | 5.537655860349128 | 6.0 | 2.091594266303753 |\n",
    "| mean(relative_humidity P1D) | 73.88528678304239 | 77.0 | 15.526561843285412 |\n",
    "| mean(wind_speed P1D) | 2.7810473815461347 | 2.6 | 1.1503614959312025 |\n",
    "| sum(duration_of_sunshine P1D) | 5.364751958224542 | 4.4 | 4.879443252342996 |\n",
    "| sum(precipitation_amount P1D) | 2.3775561097256857 | 0.3 | 4.5495109503934 |\n"
   ]
  },
  {
   "attachments": {},
   "cell_type": "markdown",
   "metadata": {},
   "source": [
    "## Korrelasjon"
   ]
  },
  {
   "cell_type": "code",
   "execution_count": null,
   "metadata": {},
   "outputs": [],
   "source": [
    "df = utils.ApiAndDataHandeling.getData(reftime=reftime, n_lines=1)\n",
    "df = utils.ApiAndDataHandeling.fixTable(df)\n",
    "\n",
    "corr = df.corr()\n",
    "sns.heatmap(corr, annot=True)\n",
    "plt.show()\n",
    "\n",
    "df = utils.ApiAndDataHandeling.getData(reftime=reftime, n_lines=4)\n",
    "df = utils.ApiAndDataHandeling.fixTable(df)\n",
    "\n",
    "sns.set_style(style='ticks')\n",
    "sns.lmplot(data=df, y='sum(duration_of_sunshine P1D)', x='mean(air_temperature P1D)')\n",
    "sns.lmplot(data=df, y='sum(duration_of_sunshine P1D)', x='mean(relative_humidity P1D)')\n",
    "sns.lmplot(data=df, y='mean(air_temperature P1D)', x='mean(relative_humidity P1D)')"
   ]
  },
  {
   "attachments": {},
   "cell_type": "markdown",
   "metadata": {},
   "source": [
    "## Regresjon"
   ]
  },
  {
   "cell_type": "code",
   "execution_count": null,
   "metadata": {},
   "outputs": [],
   "source": [
    "res = utils.regression.fit_sin(df.index, df[\"mean(air_temperature P1D)\"])\n",
    "\n",
    "plt.plot(df.index, df[\"mean(air_temperature P1D)\"], \"ok\", label=\"y\")\n",
    "plt.plot(df.index, res[\"fitfunc\"](df.index), \"r-\", label=\"y fit curve\", linewidth=2)\n",
    "plt.legend(loc=\"best\")\n",
    "plt.show()"
   ]
  },
  {
   "attachments": {},
   "cell_type": "markdown",
   "metadata": {},
   "source": [
    "Hvis vi tar en sin regresjon av tempraturen over tid får vi funksjonen: 9.710417823784592* sin(0.06882522486196074*x + -0.3066074043138937) + 7.7356567526062605"
   ]
  },
  {
   "attachments": {},
   "cell_type": "markdown",
   "metadata": {},
   "source": [
    "# Drøfting\n",
    "## Visualisering av data\n",
    "Vi kan se at temperaturen treffer ca. samme topp og bunn hvert år med litt variasjon. Vi kan derfor også forutse at vi ikke er på det kaldeste for i år enda men at vi ikke er så langt unna. \n",
    "\n",
    "På neste graf kan vi se mengden regn over tid. #TODO skriv mer om regn graf\n",
    "\n",
    "\n",
    "## Korrelasjoner\n",
    "Det finnes mange korrelasjoner i varmekartet, men man kan se at mange av de henger sammen. Man kan se en korrelasjon mellom mengde sollys og luftfuktighet, lufttemperatur og luftfuktiget og en veldig sterk korrelasjon mellom mengden sollys og temperatur. Mengden sollys og temperatur er svert sterkt korrelert siden sola er den største faktoren til hvor varmt det er. Dette gjør at å si at mengden sollys og temperatur er korrelert med luftfuktighet er i praksis det samme.\n",
    "\n",
    "Vi kan også se sammenhenger mellom lufttemperatur og relativ luftfuktighet. Dette er interessant etter som de fleste erfarer at varmere luft er fuktigere, men den relativ luftfuktighet er lavere. Det stemmer at kald luft ikke klarer å ta opp like mye fuktighet varm luft, men relativ luftfuktighet er et mål på hvor mye fuktighet som er i luften sammenliknet med hvor mye det teoretisk klarer å ta opp og er derfor målt i prosent. Dette gjør derfor at selv om den absolutte luftfuktigheten er lavere, og luften oppleves som tørrere, så er den relative luftfuktigheten høy. Det er også ofte lavere luftfuktighet ved laveretemperatur fordi det skal mindre til å nå 100%."
   ]
  }
 ],
 "metadata": {
  "kernelspec": {
   "display_name": "Python 3",
   "language": "python",
   "name": "python3"
  },
  "language_info": {
   "codemirror_mode": {
    "name": "ipython",
    "version": 3
   },
   "file_extension": ".py",
   "mimetype": "text/x-python",
   "name": "python",
   "nbconvert_exporter": "python",
   "pygments_lexer": "ipython3",
   "version": "3.9.13"
  },
  "orig_nbformat": 4,
  "vscode": {
   "interpreter": {
    "hash": "dadf8f407cf22f7c7afd2eadcc33cb055cbff1a79b57c3576717f45ff6b3c861"
   }
  }
 },
 "nbformat": 4,
 "nbformat_minor": 2
}
