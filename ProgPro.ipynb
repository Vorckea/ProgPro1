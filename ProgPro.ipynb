{
 "cells": [
  {
   "cell_type": "markdown",
   "metadata": {},
   "source": [
    "# Statistikkprosjekt"
   ]
  },
  {
   "cell_type": "markdown",
   "metadata": {},
   "source": [
    "Vårt første modelleringsprosjekt er et prosjekt der du skal samle inn et datasett og gjøre statistisk analyse og regresjonsanalyse med disse dataene. Oppgaven går ut på følgende:"
   ]
  },
  {
   "cell_type": "markdown",
   "metadata": {},
   "source": [
    "1. Samle inn data. Du bør måle minst 6 variabler og samle inn minst 25 målepunkter for hver av de fire variablene. Du kan bruke sensorer, spørreundersøkelser eller tilsvarende. Lagre dataene i en .txt-fil, .csv-fil eller .xlsx-fil (Excel). Hvis du finner et veldig godt datasett på internett som du heller ønsker å bruke, spør læreren om dere kan bruke det isteden.\n",
    "\n",
    "2. Les dataene i Python og lag relevante visualiseringer som beskriver hva datasettet forteller oss.\n",
    "\n",
    "3. Beregn relevante mål på sentraltendens og spredning. Presenter resultatene i en oversiktlig tabell. Forklar hva disse målene forteller om dataene dine. Lag gjerne visualiseringer som beskriver spredningen.\n",
    "\n",
    "4. Regn ut korrelasjoner i datasettet og lag et korrelasjonsplott. Diskuter eventuelle korrelasjoner.\n",
    "\n",
    "5. Gjør en lineær regresjon av to variabler der en lineær modell kan beskrive sammenhengen mellom variablene. Diskuter modellen.\n",
    "\n"
   ]
  },
  {
   "cell_type": "markdown",
   "metadata": {},
   "source": [
    "Prosjektet leveres som fullstendig, sammensatt rapport (lever en .ipynb-fil og .pdf av notebooken). Husk å skrive navnet på alle i gruppa på rapporten. Alle på gruppa skal levere den samme fila på Teams."
   ]
  },
  {
   "cell_type": "markdown",
   "metadata": {},
   "source": [
    "## Resources\n",
    "Data hentet fra Metrologist Institutt via frost APIen"
   ]
  },
  {
   "cell_type": "code",
   "execution_count": null,
   "metadata": {},
   "outputs": [],
   "source": [
    "import Reqs\n",
    "Reqs.downloadReqs()\n",
    "import numpy as np\n",
    "import pandas as pd\n",
    "import matplotlib.pyplot as plt\n",
    "import seaborn as sns\n",
    "import Api\n",
    "import DataHandler"
   ]
  },
  {
   "cell_type": "code",
   "execution_count": null,
   "metadata": {
    "dotnet_interactive": {
     "language": "csharp"
    }
   },
   "outputs": [],
   "source": [
    "df = Api.getData(reftime=\"2013-04-01/2020-12-02\", n_lines=7)\n",
    "df = DataHandler.fixTable(df)"
   ]
  },
  {
   "cell_type": "markdown",
   "metadata": {},
   "source": [
    "## Prosjektet"
   ]
  },
  {
   "cell_type": "code",
   "execution_count": null,
   "metadata": {},
   "outputs": [],
   "source": [
    "def new_func():\n",
    "    return df[\"mean(air_temperature P1D)\"]\n",
    "\n",
    "sns.scatterplot(x= df.index, y= new_func(), data=df, hue=df[\"sum(precipitation_amount P1D)\"])"
   ]
  },
  {
   "cell_type": "code",
   "execution_count": null,
   "metadata": {},
   "outputs": [],
   "source": [
    "#sns.scatterplot(x= df.index, y= df[\"mean(air_temperature P1D)\"], data=df, hue=df[\"sum(precipitation_amount P1D)\"])\n",
    "\n",
    "sns.set_theme(style=\"darkgrid\")\n",
    "\n",
    "# Plot the responses for different events and regions\n",
    "sns.lineplot(x=df.index, y=df[\"mean(air_temperature P1D)\"],\n",
    "             data=df)   #hue=df[\"mean(relative_humidity P1D)\"], style=df[\"mean(air_pressure_at_sea_level P1D)\"],\n",
    "\n",
    "sns.relplot(\n",
    "data=df,\n",
    "x=df.index, y=df[\"sum(precipitation_amount P1D)\"],\n",
    "hue=df[\"mean(air_temperature P1D)\"], size=df[\"mean(air_pressure_at_sea_level P1D)\"], \n",
    "sizes=(10, 200),\n",
    ")"
   ]
  },
  {
   "cell_type": "code",
   "execution_count": null,
   "metadata": {},
   "outputs": [],
   "source": [
    "corr = df.corr()\n",
    "sns.heatmap(corr, annot=True)\n",
    "plt.show()"
   ]
  },
  {
   "cell_type": "code",
   "execution_count": null,
   "metadata": {},
   "outputs": [],
   "source": [
    "import sys\n",
    "import subprocess\n",
    "\n",
    "\n",
    "try:\n",
    "    df_trun = df.drop('Unnamed: 0', axis=1)\n",
    "    df_trun = df_trun.drop(\"mean(air_pressure_at_sea_level P1D)\", axis=1)\n",
    "    df_trun = df_trun.drop(\"mean(cloud_area_fraction P1D)\", axis=1)\n",
    "    #df_trun = df_trun.drop(\"mean(relative_humidity P1D)\", axis=1)\n",
    "    #df_trun = df_trun.drop(\"mean(wind_speed P1D)\", axis=1)\n",
    "    df_trun = df_trun.drop(\"sum(duration_of_sunshine P1D)\", axis=1)\n",
    "    df_trun = df_trun.drop(\"sum(precipitation_amount P1D)\", axis=1)\n",
    "except:\n",
    "    print(\"already done\")\n",
    "\n",
    "import altair as alt\n",
    "\n",
    "\n",
    "print(type(df[\"mean(air_temperature P1D)\"]))\n",
    "long_df = df_trun.melt('referenceTime', var_name='elements', value_name='value')\n",
    "X='referenceTime'\n",
    "\n",
    "chart = alt.Chart(long_df).mark_point().encode(\n",
    "    x=X,\n",
    "    y='value',\n",
    "    color='elements'\n",
    "    ).properties(\n",
    "    width=1500,\n",
    "    height=500\n",
    "    ).show()"
   ]
  },
  {
   "attachments": {},
   "cell_type": "markdown",
   "metadata": {},
   "source": [
    "### Sentraltendens og spredning"
   ]
  },
  {
   "cell_type": "code",
   "execution_count": null,
   "metadata": {},
   "outputs": [],
   "source": [
    "mean = []\n",
    "median = []\n",
    "std = []\n",
    "elements = []\n",
    "\n",
    "for items in df: \n",
    "    try:\n",
    "        print(items)\n",
    "        mean.append(np.mean(df[items]))\n",
    "        median.append(np.nanmedian(df[items]))\n",
    "        std.append(np.std(df[items]))\n",
    "        elements.append(items)\n",
    "    except: \n",
    "        next\n",
    "\n",
    "print(mean)\n",
    "print(median)\n",
    "print(std)\n",
    "print(elements)\n",
    "liste = [[\"Data\",\"Gjennomsnitt\",\"Median\", \"Standaravikk\"]]\n",
    "for i in range(len(elements)):\n",
    "    if i == 8: break\n",
    "    a = []\n",
    "    a.append(elements[i])\n",
    "    a.append(str(mean[i]))\n",
    "    a.append(str(median[i]))\n",
    "    a.append(str(std[i]))\n",
    "    liste.append(a)\n",
    "import TableGenerator as tg\n",
    "print(tg.make_markdown_table(liste))\n"
   ]
  },
  {
   "attachments": {},
   "cell_type": "markdown",
   "metadata": {},
   "source": [
    "| Data | Gjennomsnitt | Median | Standaravikk |\n",
    "| --- | --- | --- | --- |\n",
    "| mean(air_pressure_at_sea_level P1D) | 1011.608728179551 | 1012.2 | 12.157683802428378 |\n",
    "| mean(air_temperature P1D) | 7.970822942643392 | 7.6499999999999995 | 7.450360855614655 |\n",
    "| mean(cloud_area_fraction P1D) | 5.537655860349128 | 6.0 | 2.091594266303753 |\n",
    "| mean(relative_humidity P1D) | 73.88528678304239 | 77.0 | 15.526561843285412 |\n",
    "| mean(wind_speed P1D) | 2.7810473815461347 | 2.6 | 1.1503614959312025 |\n",
    "| sum(duration_of_sunshine P1D) | 5.364751958224542 | 4.4 | 4.879443252342996 |\n",
    "| sum(precipitation_amount P1D) | 2.3775561097256857 | 0.3 | 4.5495109503934 |\n"
   ]
  },
  {
   "cell_type": "markdown",
   "metadata": {},
   "source": []
  },
  {
   "cell_type": "markdown",
   "metadata": {},
   "source": []
  }
 ],
 "metadata": {
  "kernelspec": {
   "display_name": "base",
   "language": "python",
   "name": "python3"
  },
  "language_info": {
   "codemirror_mode": {
    "name": "ipython",
    "version": 3
   },
   "file_extension": ".py",
   "mimetype": "text/x-python",
   "name": "python",
   "nbconvert_exporter": "python",
   "pygments_lexer": "ipython3",
   "version": "3.8.8"
  },
  "orig_nbformat": 4,
  "vscode": {
   "interpreter": {
    "hash": "4ac408516564915e59f6571e8840a617524b2c5af7c094526d6726d37b65d83a"
   }
  }
 },
 "nbformat": 4,
 "nbformat_minor": 2
}
