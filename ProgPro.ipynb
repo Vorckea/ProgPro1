{
 "cells": [
  {
   "cell_type": "markdown",
   "metadata": {},
   "source": [
    "# Statistikkprosjekt"
   ]
  },
  {
   "cell_type": "markdown",
   "metadata": {},
   "source": [
    "Vårt første modelleringsprosjekt er et prosjekt der du skal samle inn et datasett og gjøre statistisk analyse og regresjonsanalyse med disse dataene. Oppgaven går ut på følgende:"
   ]
  },
  {
   "cell_type": "markdown",
   "metadata": {},
   "source": [
    "1. Samle inn data. Du bør måle minst 6 variabler og samle inn minst 25 målepunkter for hver av de fire variablene. Du kan bruke sensorer, spørreundersøkelser eller tilsvarende. Lagre dataene i en .txt-fil, .csv-fil eller .xlsx-fil (Excel). Hvis du finner et veldig godt datasett på internett som du heller ønsker å bruke, spør læreren om dere kan bruke det isteden.\n",
    "\n",
    "2. Les dataene i Python og lag relevante visualiseringer som beskriver hva datasettet forteller oss.\n",
    "\n",
    "3. Beregn relevante mål på sentraltendens og spredning. Presenter resultatene i en oversiktlig tabell. Forklar hva disse målene forteller om dataene dine. Lag gjerne visualiseringer som beskriver spredningen.\n",
    "\n",
    "4. Regn ut korrelasjoner i datasettet og lag et korrelasjonsplott. Diskuter eventuelle korrelasjoner.\n",
    "\n",
    "5. Gjør en lineær regresjon av to variabler der en lineær modell kan beskrive sammenhengen mellom variablene. Diskuter modellen.\n",
    "\n"
   ]
  },
  {
   "cell_type": "markdown",
   "metadata": {},
   "source": [
    "Prosjektet leveres som fullstendig, sammensatt rapport (lever en .ipynb-fil og .pdf av notebooken). Husk å skrive navnet på alle i gruppa på rapporten. Alle på gruppa skal levere den samme fila på Teams."
   ]
  },
  {
   "cell_type": "markdown",
   "metadata": {},
   "source": [
    "## Resources\n",
    "Link til dataset https://vikenfk-my.sharepoint.com/:x:/g/personal/eliastor_viken_no/Eagui26u11FOicAqXMPH6z8BdBkqobUKVG3PVltnZAzpwA"
   ]
  },
  {
   "cell_type": "code",
   "execution_count": 1,
   "metadata": {
    "dotnet_interactive": {
     "language": "csharp"
    }
   },
   "outputs": [],
   "source": [
    "import numpy as np\n",
    "import pandas as pd\n",
    "import matplotlib.pyplot as plt\n",
    "import seaborn as sns\n",
    "import Api"
   ]
  },
  {
   "cell_type": "code",
   "execution_count": 3,
   "metadata": {
    "dotnet_interactive": {
     "language": "csharp"
    }
   },
   "outputs": [
    {
     "name": "stdout",
     "output_type": "stream",
     "text": [
      "Error! Returned status code 401\n"
     ]
    },
    {
     "ename": "UnboundLocalError",
     "evalue": "local variable 'data' referenced before assignment",
     "output_type": "error",
     "traceback": [
      "\u001b[1;31m---------------------------------------------------------------------------\u001b[0m",
      "\u001b[1;31mUnboundLocalError\u001b[0m                         Traceback (most recent call last)",
      "Cell \u001b[1;32mIn[3], line 1\u001b[0m\n\u001b[1;32m----> 1\u001b[0m df \u001b[39m=\u001b[39m Api\u001b[39m.\u001b[39;49mgetData(reftime\u001b[39m=\u001b[39;49m\u001b[39m\"\u001b[39;49m\u001b[39m2010-04-01/2010-04-03\u001b[39;49m\u001b[39m\"\u001b[39;49m)\n",
      "File \u001b[1;32mc:\\Users\\Aksel\\source\\repos\\Vorckea\\ProgPro1\\Api.py:38\u001b[0m, in \u001b[0;36mgetData\u001b[1;34m(reftime)\u001b[0m\n\u001b[0;32m     34\u001b[0m     \u001b[39m#print('Message: %s' % json['error']['message'])\u001b[39;00m\n\u001b[0;32m     35\u001b[0m     \u001b[39m#print('Reason: %s' % json['error']['reason'])\u001b[39;00m\n\u001b[0;32m     37\u001b[0m df \u001b[39m=\u001b[39m pd\u001b[39m.\u001b[39mDataFrame()\n\u001b[1;32m---> 38\u001b[0m \u001b[39mfor\u001b[39;00m i \u001b[39min\u001b[39;00m \u001b[39mrange\u001b[39m(\u001b[39mlen\u001b[39m(data)):\n\u001b[0;32m     39\u001b[0m     row \u001b[39m=\u001b[39m pd\u001b[39m.\u001b[39mDataFrame(data[i][\u001b[39m\"\u001b[39m\u001b[39mobservations\u001b[39m\u001b[39m\"\u001b[39m])\n\u001b[0;32m     40\u001b[0m     row[\u001b[39m\"\u001b[39m\u001b[39mreferenceTime\u001b[39m\u001b[39m\"\u001b[39m] \u001b[39m=\u001b[39m data[i][\u001b[39m\"\u001b[39m\u001b[39mreferenceTime\u001b[39m\u001b[39m\"\u001b[39m]\n",
      "\u001b[1;31mUnboundLocalError\u001b[0m: local variable 'data' referenced before assignment"
     ]
    }
   ],
   "source": [
    "df = Api.getData(reftime=\"2010-04-01/2010-04-03\")"
   ]
  },
  {
   "cell_type": "code",
   "execution_count": null,
   "metadata": {
    "dotnet_interactive": {
     "language": "csharp"
    }
   },
   "outputs": [
    {
     "data": {
      "text/html": [
       "<div>\n",
       "<style scoped>\n",
       "    .dataframe tbody tr th:only-of-type {\n",
       "        vertical-align: middle;\n",
       "    }\n",
       "\n",
       "    .dataframe tbody tr th {\n",
       "        vertical-align: top;\n",
       "    }\n",
       "\n",
       "    .dataframe thead th {\n",
       "        text-align: right;\n",
       "    }\n",
       "</style>\n",
       "<table border=\"1\" class=\"dataframe\">\n",
       "  <thead>\n",
       "    <tr style=\"text-align: right;\">\n",
       "      <th></th>\n",
       "      <th>tekn_unr</th>\n",
       "      <th>tekn_kjm_farge</th>\n",
       "      <th>tekn_reg_aar</th>\n",
       "      <th>tekn_f_g_n</th>\n",
       "      <th>tekn_avreg_dato</th>\n",
       "      <th>tekn_reg_status</th>\n",
       "      <th>tekn_bruktimp</th>\n",
       "      <th>tekn_merke</th>\n",
       "      <th>tekn_merkenavn</th>\n",
       "      <th>tekn_modell</th>\n",
       "      <th>...</th>\n",
       "      <th>tekn_siste_pkk</th>\n",
       "      <th>tekn_neste_pkk</th>\n",
       "      <th>tekn_standstoy</th>\n",
       "      <th>tekn_partikkelfilter</th>\n",
       "      <th>tekn_nox_utslipp_mgprkh</th>\n",
       "      <th>tekn_nox_utslipp_gprkwh</th>\n",
       "      <th>tekn_partikkelutslipp</th>\n",
       "      <th>tekn_maalemetode</th>\n",
       "      <th>tekn_co2_utslipp</th>\n",
       "      <th>tekn_drivstoff_forbruk</th>\n",
       "    </tr>\n",
       "  </thead>\n",
       "  <tbody>\n",
       "    <tr>\n",
       "      <th>0</th>\n",
       "      <td>XMCLNDA1A3F003055</td>\n",
       "      <td>ORDINART</td>\n",
       "      <td>20021105</td>\n",
       "      <td>20021105</td>\n",
       "      <td>NaN</td>\n",
       "      <td>VRAKET</td>\n",
       "      <td>0.0</td>\n",
       "      <td>4011.0</td>\n",
       "      <td>MITSUBISHI</td>\n",
       "      <td>CARISMA</td>\n",
       "      <td>...</td>\n",
       "      <td>20140509.0</td>\n",
       "      <td>NaN</td>\n",
       "      <td>81.0</td>\n",
       "      <td>0.0</td>\n",
       "      <td>18</td>\n",
       "      <td>NaN</td>\n",
       "      <td>NaN</td>\n",
       "      <td>ANNEN</td>\n",
       "      <td>174</td>\n",
       "      <td>7.4</td>\n",
       "    </tr>\n",
       "    <tr>\n",
       "      <th>1</th>\n",
       "      <td>JSAERD31S00300834</td>\n",
       "      <td>ORDINART</td>\n",
       "      <td>20041230</td>\n",
       "      <td>20041230</td>\n",
       "      <td>NaN</td>\n",
       "      <td>REGISTRERT</td>\n",
       "      <td>0.0</td>\n",
       "      <td>8380.0</td>\n",
       "      <td>SUZUKI</td>\n",
       "      <td>LIANA</td>\n",
       "      <td>...</td>\n",
       "      <td>20200407.0</td>\n",
       "      <td>20220430.0</td>\n",
       "      <td>81.0</td>\n",
       "      <td>0.0</td>\n",
       "      <td>10</td>\n",
       "      <td>NaN</td>\n",
       "      <td>NaN</td>\n",
       "      <td>ANNEN</td>\n",
       "      <td>197</td>\n",
       "      <td>8.2</td>\n",
       "    </tr>\n",
       "    <tr>\n",
       "      <th>2</th>\n",
       "      <td>JHMAAD5430C116038</td>\n",
       "      <td>ORDINART</td>\n",
       "      <td>19851231</td>\n",
       "      <td>19850522</td>\n",
       "      <td>NaN</td>\n",
       "      <td>VRAKET</td>\n",
       "      <td>0.0</td>\n",
       "      <td>7740.0</td>\n",
       "      <td>HONDA</td>\n",
       "      <td>ACCORD</td>\n",
       "      <td>...</td>\n",
       "      <td>20010316.0</td>\n",
       "      <td>NaN</td>\n",
       "      <td>NaN</td>\n",
       "      <td>0.0</td>\n",
       "      <td>NaN</td>\n",
       "      <td>NaN</td>\n",
       "      <td>NaN</td>\n",
       "      <td>NaN</td>\n",
       "      <td>NaN</td>\n",
       "      <td>NaN</td>\n",
       "    </tr>\n",
       "    <tr>\n",
       "      <th>3</th>\n",
       "      <td>WV2ZZZ70ZSH075413</td>\n",
       "      <td>ORDINART</td>\n",
       "      <td>19950313</td>\n",
       "      <td>19950313</td>\n",
       "      <td>20161229.0</td>\n",
       "      <td>AVREGISTRERT</td>\n",
       "      <td>0.0</td>\n",
       "      <td>5750.0</td>\n",
       "      <td>VOLKSWAGEN</td>\n",
       "      <td>CARAVELLE</td>\n",
       "      <td>...</td>\n",
       "      <td>20151103.0</td>\n",
       "      <td>20170331.0</td>\n",
       "      <td>82.0</td>\n",
       "      <td>0.0</td>\n",
       "      <td>NaN</td>\n",
       "      <td>NaN</td>\n",
       "      <td>NaN</td>\n",
       "      <td>NaN</td>\n",
       "      <td>NaN</td>\n",
       "      <td>NaN</td>\n",
       "    </tr>\n",
       "    <tr>\n",
       "      <th>4</th>\n",
       "      <td>B364694</td>\n",
       "      <td>ORDINART</td>\n",
       "      <td>19800919</td>\n",
       "      <td>19800919</td>\n",
       "      <td>NaN</td>\n",
       "      <td>REGISTRERT</td>\n",
       "      <td>0.0</td>\n",
       "      <td>9600.0</td>\n",
       "      <td>SCHILTER</td>\n",
       "      <td>4600</td>\n",
       "      <td>...</td>\n",
       "      <td>NaN</td>\n",
       "      <td>NaN</td>\n",
       "      <td>NaN</td>\n",
       "      <td>0.0</td>\n",
       "      <td>NaN</td>\n",
       "      <td>NaN</td>\n",
       "      <td>NaN</td>\n",
       "      <td>NaN</td>\n",
       "      <td>NaN</td>\n",
       "      <td>NaN</td>\n",
       "    </tr>\n",
       "  </tbody>\n",
       "</table>\n",
       "<p>5 rows × 78 columns</p>\n",
       "</div>"
      ],
      "text/plain": [
       "            tekn_unr tekn_kjm_farge  tekn_reg_aar  tekn_f_g_n  \\\n",
       "0  XMCLNDA1A3F003055       ORDINART      20021105    20021105   \n",
       "1  JSAERD31S00300834       ORDINART      20041230    20041230   \n",
       "2  JHMAAD5430C116038       ORDINART      19851231    19850522   \n",
       "3  WV2ZZZ70ZSH075413       ORDINART      19950313    19950313   \n",
       "4            B364694       ORDINART      19800919    19800919   \n",
       "\n",
       "   tekn_avreg_dato tekn_reg_status  tekn_bruktimp  tekn_merke tekn_merkenavn  \\\n",
       "0              NaN          VRAKET            0.0      4011.0     MITSUBISHI   \n",
       "1              NaN      REGISTRERT            0.0      8380.0         SUZUKI   \n",
       "2              NaN          VRAKET            0.0      7740.0          HONDA   \n",
       "3       20161229.0    AVREGISTRERT            0.0      5750.0     VOLKSWAGEN   \n",
       "4              NaN      REGISTRERT            0.0      9600.0       SCHILTER   \n",
       "\n",
       "  tekn_modell  ... tekn_siste_pkk tekn_neste_pkk  tekn_standstoy  \\\n",
       "0     CARISMA  ...     20140509.0            NaN            81.0   \n",
       "1       LIANA  ...     20200407.0     20220430.0            81.0   \n",
       "2      ACCORD  ...     20010316.0            NaN             NaN   \n",
       "3   CARAVELLE  ...     20151103.0     20170331.0            82.0   \n",
       "4        4600  ...            NaN            NaN             NaN   \n",
       "\n",
       "  tekn_partikkelfilter tekn_nox_utslipp_mgprkh  tekn_nox_utslipp_gprkwh  \\\n",
       "0                  0.0                      18                      NaN   \n",
       "1                  0.0                      10                      NaN   \n",
       "2                  0.0                     NaN                      NaN   \n",
       "3                  0.0                     NaN                      NaN   \n",
       "4                  0.0                     NaN                      NaN   \n",
       "\n",
       "  tekn_partikkelutslipp tekn_maalemetode  tekn_co2_utslipp  \\\n",
       "0                   NaN            ANNEN               174   \n",
       "1                   NaN            ANNEN               197   \n",
       "2                   NaN              NaN               NaN   \n",
       "3                   NaN              NaN               NaN   \n",
       "4                   NaN              NaN               NaN   \n",
       "\n",
       "  tekn_drivstoff_forbruk  \n",
       "0                    7.4  \n",
       "1                    8.2  \n",
       "2                    NaN  \n",
       "3                    NaN  \n",
       "4                    NaN  \n",
       "\n",
       "[5 rows x 78 columns]"
      ]
     },
     "execution_count": 4,
     "metadata": {},
     "output_type": "execute_result"
    }
   ],
   "source": [
    "df.head()"
   ]
  }
 ],
 "metadata": {
  "kernelspec": {
   "display_name": "Python 3.9.7 64-bit",
   "language": "python",
   "name": "python3"
  },
  "language_info": {
   "codemirror_mode": {
    "name": "ipython",
    "version": 3
   },
   "file_extension": ".py",
   "mimetype": "text/x-python",
   "name": "python",
   "nbconvert_exporter": "python",
   "pygments_lexer": "ipython3",
   "version": "3.9.7"
  },
  "orig_nbformat": 4,
  "vscode": {
   "interpreter": {
    "hash": "c347c8f9a7ef94e4c9e03b4513be7835ed18f45b99a2a817fb579f408b867b16"
   }
  }
 },
 "nbformat": 4,
 "nbformat_minor": 2
}
